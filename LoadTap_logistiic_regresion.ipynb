{
  "nbformat": 4,
  "nbformat_minor": 0,
  "metadata": {
    "colab": {
      "private_outputs": true,
      "provenance": [],
      "authorship_tag": "ABX9TyMNXT8oLfdnApjvMkwGdLR0",
      "include_colab_link": true
    },
    "kernelspec": {
      "name": "python3",
      "display_name": "Python 3"
    },
    "language_info": {
      "name": "python"
    }
  },
  "cells": [
    {
      "cell_type": "markdown",
      "metadata": {
        "id": "view-in-github",
        "colab_type": "text"
      },
      "source": [
        "<a href=\"https://colab.research.google.com/github/Anuragpandey2005/LoanTap_claasification/blob/main/LoadTap_logistiic_regresion.ipynb\" target=\"_parent\"><img src=\"https://colab.research.google.com/assets/colab-badge.svg\" alt=\"Open In Colab\"/></a>"
      ]
    },
    {
      "cell_type": "code",
      "execution_count": null,
      "metadata": {
        "id": "N4wZfuIhz74i"
      },
      "outputs": [],
      "source": [
        "import pandas as pd\n",
        "import numpy as np\n",
        "from sklearn.linear_model import LogisticRegression"
      ]
    },
    {
      "cell_type": "markdown",
      "source": [
        "# Import data with required libraries"
      ],
      "metadata": {
        "id": "pk_4ta43I-0M"
      }
    },
    {
      "cell_type": "code",
      "source": [
        "import gdown\n",
        "file_id = \"1ZPYj7CZCfxntE8p2Lze_4QO4MyEOy6_d\"\n",
        "gdown.download(f\"https://drive.google.com/uc?id={file_id}\", \"data.csv\", quiet=False)\n",
        "df = pd.read_csv(\"data.csv\")"
      ],
      "metadata": {
        "id": "BQdmIcJ496D1"
      },
      "execution_count": null,
      "outputs": []
    },
    {
      "cell_type": "code",
      "source": [
        "df.head()"
      ],
      "metadata": {
        "id": "M6ZUizfD-X79"
      },
      "execution_count": null,
      "outputs": []
    },
    {
      "cell_type": "markdown",
      "source": [
        "# About the data"
      ],
      "metadata": {
        "id": "-2MoFIRCJR7s"
      }
    },
    {
      "cell_type": "code",
      "source": [
        "df.info()"
      ],
      "metadata": {
        "id": "0EJACwSt-sdp"
      },
      "execution_count": null,
      "outputs": []
    },
    {
      "cell_type": "code",
      "source": [
        "df.isna().sum()"
      ],
      "metadata": {
        "id": "0wwYJ0RlJmVz"
      },
      "execution_count": null,
      "outputs": []
    },
    {
      "cell_type": "code",
      "source": [
        "df.describe()"
      ],
      "metadata": {
        "id": "1FqwnZI1JfBl"
      },
      "execution_count": null,
      "outputs": []
    },
    {
      "cell_type": "markdown",
      "source": [
        "# We got null values in 'mort_acc','emp_title','emp_length','pub_rec_bankruptcies','title'"
      ],
      "metadata": {
        "id": "RjI7fJlmJwQj"
      }
    },
    {
      "cell_type": "code",
      "source": [
        "df.nunique()"
      ],
      "metadata": {
        "id": "OMss5b2A-f2W"
      },
      "execution_count": null,
      "outputs": []
    },
    {
      "cell_type": "code",
      "source": [
        "df.groupby(\"emp_length\")[\"loan_status\"].value_counts(normalize=True)* 100"
      ],
      "metadata": {
        "id": "5X99bazmMQwK"
      },
      "execution_count": null,
      "outputs": []
    },
    {
      "cell_type": "markdown",
      "source": [
        "# Remove not  important columns from dataset"
      ],
      "metadata": {
        "id": "1-A8sTWOPww4"
      }
    },
    {
      "cell_type": "markdown",
      "source": [
        "columns why not important\n",
        "\n",
        "* emp_title = we don,t  need employee job profile name to find if he leave job or not\n",
        "* revol_bal = we aalready have revol_utiil we basically tell aabout revol_bal in percentage\n",
        "* title = it is same as purpose\n",
        "* grade = we had better explained column name sub_grade\n",
        "* Emp_length = this"
      ],
      "metadata": {
        "id": "9BqrbPFQugj9"
      }
    },
    {
      "cell_type": "code",
      "source": [
        "cols_to_drop = [\"emp_title\",\"revol_bal\",\"title\",\"grade\",\"emp_length\",\"address\"]\n",
        "existing_cols_to_drop = [col for col in cols_to_drop if col in df.columns]\n",
        "df = df.drop(existing_cols_to_drop, axis=1)"
      ],
      "metadata": {
        "id": "8fkqkvYstKX4"
      },
      "execution_count": null,
      "outputs": []
    },
    {
      "cell_type": "markdown",
      "source": [
        "# Treat Null values of each columns required  "
      ],
      "metadata": {
        "id": "hHDdXbCCtDaN"
      }
    },
    {
      "cell_type": "code",
      "source": [
        "df['revol_util_missing'] = df['revol_util'].isna().astype(int)\n",
        "df['revol_util'] = df['revol_util'].fillna(df['revol_util'].median())\n",
        "df['mort_acc_missing'] = df['mort_acc'].isna().astype(int)\n",
        "df['mort_acc'] = df['mort_acc'].fillna(0)\n",
        "df['pub_rec_bankruptcies_missing'] = df['pub_rec_bankruptcies'].isna().astype(int)\n",
        "df['pub_rec_bankruptcies'] = df['pub_rec_bankruptcies'].fillna(0)"
      ],
      "metadata": {
        "id": "ZJY9fBeRWRSA"
      },
      "execution_count": null,
      "outputs": []
    },
    {
      "cell_type": "code",
      "source": [
        "df.isna().sum()"
      ],
      "metadata": {
        "id": "EmUE0nvcKqUB"
      },
      "execution_count": null,
      "outputs": []
    },
    {
      "cell_type": "markdown",
      "source": [
        "# Exploratory Data Analysis  "
      ],
      "metadata": {
        "id": "A91-Fwj4DZ4c"
      }
    },
    {
      "cell_type": "code",
      "source": [
        "df[\"loan_status\"].value_counts(normalize=True)*100"
      ],
      "metadata": {
        "id": "YiNNWES_uCn1"
      },
      "execution_count": null,
      "outputs": []
    },
    {
      "cell_type": "code",
      "source": [
        "df.groupby(\"purpose\")[\"loan_status\"].value_counts(normalize=True)*100"
      ],
      "metadata": {
        "id": "bg_2eGUQrNaC"
      },
      "execution_count": null,
      "outputs": []
    },
    {
      "cell_type": "code",
      "source": [
        "filtered_df = df[df['purpose'].isin([\"credit_card\", \"debt_consolidation\", \"home_improvement\",\"major_purchase\",\"other\"])]\n",
        "filtered_df.groupby(\"loan_status\")[\"purpose\"].value_counts(normalize=True)*100"
      ],
      "metadata": {
        "id": "m-eKWQYYwFSX"
      },
      "execution_count": null,
      "outputs": []
    },
    {
      "cell_type": "code",
      "source": [
        "total_chharged_off=(df[\"loan_status\"] == \"Charged Off\").sum()"
      ],
      "metadata": {
        "id": "1HLicmXRyE-s"
      },
      "execution_count": null,
      "outputs": []
    },
    {
      "cell_type": "code",
      "source": [
        "total_filtered=filtered_df[\"loan_status\"].value_counts().loc[\"Charged Off\"]\n",
        "percent=total_filtered/total_chharged_off *100\n",
        "percent"
      ],
      "metadata": {
        "id": "7PKkF_bpxsaB"
      },
      "execution_count": null,
      "outputs": []
    },
    {
      "cell_type": "code",
      "source": [
        "df=df.drop(\"installment\",axis=1)"
      ],
      "metadata": {
        "id": "Luv8FKZRELoV"
      },
      "execution_count": null,
      "outputs": []
    },
    {
      "cell_type": "code",
      "source": [
        "filtered_df_debt = df[df['purpose'].isin([\"debt_consolidation\"])]\n",
        "filtered_df_debt=filtered_df_debt.groupby(\"loan_status\")[\"purpose\"].value_counts()\n",
        "percent_of_debt_consolidation=(filtered_df_debt/total_chharged_off*100)\n",
        "percent_of_debt_consolidation"
      ],
      "metadata": {
        "id": "MAzNnjuF1Cpw"
      },
      "execution_count": null,
      "outputs": []
    },
    {
      "cell_type": "code",
      "source": [
        "df.groupby(\"loan_status\")[\"purpose\"].value_counts(normalize=True)*100"
      ],
      "metadata": {
        "id": "fukx6o_Q83Er"
      },
      "execution_count": null,
      "outputs": []
    },
    {
      "cell_type": "markdown",
      "source": [
        "93% of load default happens for the people who had purpose of credit card,debt_consolidation,home_improvement,other and major_purchase\n",
        "\n",
        "* 62% of total chargge off is contributed by only debt_consolidation purpose.\n"
      ],
      "metadata": {
        "id": "xOSQtknDtjHA"
      }
    },
    {
      "cell_type": "code",
      "source": [
        "df.groupby(\"sub_grade\")[\"loan_status\"].value_counts(normalize=True)*100"
      ],
      "metadata": {
        "id": "aO1MvFuw9X55"
      },
      "execution_count": null,
      "outputs": []
    },
    {
      "cell_type": "markdown",
      "source": [
        "# Treat outlier for annual income."
      ],
      "metadata": {
        "id": "-eYCkIYvDyHt"
      }
    },
    {
      "cell_type": "code",
      "source": [
        "import seaborn as sns\n",
        "import matplotlib.pyplot as plt\n",
        "def compare_outliers(df, column):\n",
        "    fig, axes = plt.subplots(1, 2, figsize=(12, 5))\n",
        "    sns.boxplot(y=df[column], ax=axes[0])\n",
        "    axes[0].set_title(f\"Before Treatment - {column}\")\n",
        "\n",
        "    # IQR method\n",
        "    Q1 = df[column].quantile(0.25)\n",
        "    Q3 = df[column].quantile(0.75)\n",
        "    IQR = Q3 - Q1\n",
        "    lower_limit = Q1 - 1.5 * IQR\n",
        "    upper_limit = Q3 + 1.5 * IQR\n",
        "\n",
        "    df[column] = np.where(df[column] < lower_limit, lower_limit,\n",
        "                          np.where(df[column] > upper_limit, upper_limit, df[column]))\n",
        "\n",
        "    sns.boxplot(y=df[column], ax=axes[1])\n",
        "    axes[1].set_title(f\"After Treatment - {column}\")\n",
        "    plt.show()\n",
        "compare_outliers(df, 'annual_inc')\n"
      ],
      "metadata": {
        "id": "j6iE1sikDsus"
      },
      "execution_count": null,
      "outputs": []
    },
    {
      "cell_type": "code",
      "source": [
        "df.groupby([\"application_type\"])[\"loan_status\"].value_counts(normalize=True)*100"
      ],
      "metadata": {
        "id": "l3PyDwL5FAGy"
      },
      "execution_count": null,
      "outputs": []
    },
    {
      "cell_type": "markdown",
      "source": [
        "* THEIR IS A RISK IN DIRECT PAY which have 35% rate of charge off"
      ],
      "metadata": {
        "id": "HzaxWboINcu1"
      }
    },
    {
      "cell_type": "markdown",
      "source": [
        "* direct pay  have 35 % of charge off. which is significantly high\n"
      ],
      "metadata": {
        "id": "AOdoF39rW_nz"
      }
    },
    {
      "cell_type": "code",
      "source": [
        "df.columns"
      ],
      "metadata": {
        "id": "xu7ssqMkCtBb"
      },
      "execution_count": null,
      "outputs": []
    },
    {
      "cell_type": "code",
      "source": [
        "df.groupby(\"application_type\").nunique()"
      ],
      "metadata": {
        "id": "lhjx8Rb1Ckk7"
      },
      "execution_count": null,
      "outputs": []
    },
    {
      "cell_type": "code",
      "source": [
        "df.groupby(\"verification_status\")[\"loan_status\"].value_counts(normalize=True)*100"
      ],
      "metadata": {
        "id": "GyFObFIm-cwS"
      },
      "execution_count": null,
      "outputs": []
    },
    {
      "cell_type": "markdown",
      "source": [
        "* person who had verification_status as Not Verified had less charged off rate"
      ],
      "metadata": {
        "id": "nyEs69z5CpZv"
      }
    },
    {
      "cell_type": "code",
      "source": [
        "df[[\"pub_rec\", \"pub_rec_bankruptcies\"]] = df[[\"pub_rec\", \"pub_rec_bankruptcies\"]].apply(pd.to_numeric, errors=\"coerce\")\n",
        "# Calculate correlation\n",
        "correlation = df[\"pub_rec\"].corr(df[\"pub_rec_bankruptcies\"])\n",
        "print(f\"Correlation: {correlation:.4f}\")"
      ],
      "metadata": {
        "id": "8C8tQpbwFZ6I"
      },
      "execution_count": null,
      "outputs": []
    },
    {
      "cell_type": "markdown",
      "source": [
        "# Feature Engineering"
      ],
      "metadata": {
        "id": "GlS51W4Z8bB2"
      }
    },
    {
      "cell_type": "code",
      "source": [
        "df[\"Loan-to-Income Ratio\"]=df[\"loan_amnt\"]/df[\"annual_inc\"]"
      ],
      "metadata": {
        "id": "0dPbqhwwCuPF"
      },
      "execution_count": null,
      "outputs": []
    },
    {
      "cell_type": "code",
      "source": [
        "df['issue_d'] = pd.to_datetime(df['issue_d'], format='%b-%Y')\n",
        "df['earliest_cr_line'] = pd.to_datetime(df['earliest_cr_line'], format='%b-%Y')\n",
        "df['credit_experience_years'] = (df['issue_d'].dt.year - df['earliest_cr_line'].dt.year) + \\\n",
        "                                (df['issue_d'].dt.month - df['earliest_cr_line'].dt.month)/12\n",
        "\n",
        "# define experience categories\n",
        "def experience_category(years):\n",
        "    if years <= 1:\n",
        "        return \"Fresher\"\n",
        "    elif years <= 2:\n",
        "        return \"Beginner\"\n",
        "    elif years <= 5:\n",
        "        return \"Medium Experience\"\n",
        "    else:\n",
        "        return \"Very Experienced\"\n",
        "\n",
        "# apply function\n",
        "df['credit_experience_level'] = df['credit_experience_years'].apply(experience_category)\n",
        "\n",
        "# check result\n",
        "print(df[['issue_d','earliest_cr_line','credit_experience_years','credit_experience_level']].head(10))\n",
        "df=df.drop(['issue_d','earliest_cr_line','credit_experience_years'],axis=1)"
      ],
      "metadata": {
        "id": "fcwvhlMP09iV"
      },
      "execution_count": null,
      "outputs": []
    },
    {
      "cell_type": "code",
      "source": [
        "df.groupby(\"credit_experience_level\")[\"loan_status\"].value_counts(normalize=True)*100\n"
      ],
      "metadata": {
        "id": "5CIi7ovC6mcH"
      },
      "execution_count": null,
      "outputs": []
    },
    {
      "cell_type": "code",
      "source": [
        "def experience_category(years):\n",
        "    if  year<= []:\n",
        "        return \"Fresher\"\n",
        "    elif years <= 2:\n",
        "        return \"Beginner\"\n",
        "    elif years <= 5:\n",
        "        return \"Medium Experience\"\n",
        "    else:\n",
        "        return \"Very Experienced\""
      ],
      "metadata": {
        "id": "5KNtT3t1NRWo"
      },
      "execution_count": null,
      "outputs": []
    },
    {
      "cell_type": "code",
      "metadata": {
        "id": "abdae398"
      },
      "source": [
        "numeric_cols = df.select_dtypes(include=np.number).columns.tolist()\n",
        "print(\"Numeric columns:\")\n",
        "print(numeric_cols)"
      ],
      "execution_count": null,
      "outputs": []
    },
    {
      "cell_type": "code",
      "source": [
        "numeric_df = df.select_dtypes(include=np.number)\n",
        "plt.figure(figsize=(10,8))\n",
        "sns.heatmap(data=numeric_df.corr())\n",
        "\n",
        "plt.show()"
      ],
      "metadata": {
        "id": "Vn5bvneXIpY6"
      },
      "execution_count": null,
      "outputs": []
    },
    {
      "cell_type": "code",
      "source": [
        "from sklearn.model_selection import train_test_split"
      ],
      "metadata": {
        "id": "3luBVFtxFWN9"
      },
      "execution_count": null,
      "outputs": []
    },
    {
      "cell_type": "code",
      "source": [
        "df"
      ],
      "metadata": {
        "id": "n3DCwnIT8kn_"
      },
      "execution_count": null,
      "outputs": []
    },
    {
      "cell_type": "code",
      "source": [
        "df.groupby(\"int_rate\")[\"loan_status\"].value_counts(normalize=True).sort_values(ascending=False)"
      ],
      "metadata": {
        "id": "5nRTK2CrBThz"
      },
      "execution_count": null,
      "outputs": []
    },
    {
      "cell_type": "code",
      "source": [
        "def categroy(int_rate):\n",
        "    if int_rate >= 0.0 and int_rate < 5.0:\n",
        "        return \"Low\"\n",
        "    elif int_rate >= 5.0 and int_rate < 10.0:\n",
        "        return \"normmal rate \"\n",
        "    elif int_rate >= 10.0 and int_rate < 15.0:\n",
        "        return \"Standard\"\n",
        "    elif int_rate >= 15.0 and int_rate < 20.0:\n",
        "        return \"high\"\n",
        "    elif int_rate >= 20.0 and int_rate < 25.0:\n",
        "        return \"very high\"\n",
        "    else:\n",
        "        return \"Extrme\"\n",
        "df[\"int_rate_category\"]= df[\"int_rate\"].apply(categroy)"
      ],
      "metadata": {
        "id": "3RVc4qp7Grx2"
      },
      "execution_count": null,
      "outputs": []
    },
    {
      "cell_type": "code",
      "source": [
        "df"
      ],
      "metadata": {
        "id": "hKMKKp70bTcd"
      },
      "execution_count": null,
      "outputs": []
    },
    {
      "cell_type": "code",
      "source": [
        "df.groupby(\"loan_status\")[\"int_rate_category\"].value_counts(normalize=True)*100"
      ],
      "metadata": {
        "id": "SiD_RyR1bYyz"
      },
      "execution_count": null,
      "outputs": []
    },
    {
      "cell_type": "markdown",
      "source": [
        "charge of rate is very high when interest rate is between 10% to 20% . almost 74% of total ccharge off belongs to this interest rate only  "
      ],
      "metadata": {
        "id": "ZVvIlKMycQIS"
      }
    },
    {
      "cell_type": "code",
      "source": [
        "# Find actual max annual income\n",
        "max_income = df[\"annual_inc\"].max()\n",
        "\n",
        "# Ensure the last bin edge is greater than all previous ones\n",
        "bins = [0,25000,50000,75000,100000,150000,200000,500000,max_income]\n",
        "\n",
        "# Drop duplicates just in case\n",
        "bins = sorted(set(bins))\n",
        "\n",
        "# Define labels = len(bins)-1\n",
        "labels = [\"Entry_level\",\"Junior\",\"Mid-level\",\"Experienced\",\n",
        "          \"Senior\",\"Lead\",\"Director\",\"Executive\"]\n",
        "\n",
        "# Apply pd.cut\n",
        "df[\"income_category\"] = pd.cut(df[\"annual_inc\"], bins=bins, labels=labels, include_lowest=True)\n",
        "\n",
        "# Check\n",
        "print(df[[\"annual_inc\",\"income_category\"]].head(10))\n"
      ],
      "metadata": {
        "id": "ft1OFICziEyf"
      },
      "execution_count": null,
      "outputs": []
    },
    {
      "cell_type": "code",
      "source": [
        "df.rename(columns={\"annual_inc\":\"Annual_inc\"},inplace=True)"
      ],
      "metadata": {
        "id": "cwylWWMfiJub"
      },
      "execution_count": null,
      "outputs": []
    },
    {
      "cell_type": "code",
      "source": [],
      "metadata": {
        "id": "HNKcOwsl843_"
      },
      "execution_count": null,
      "outputs": []
    }
  ]
}